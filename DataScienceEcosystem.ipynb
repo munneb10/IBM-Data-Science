{
 "cells": [
  {
   "cell_type": "markdown",
   "id": "9537693a",
   "metadata": {},
   "source": [
    "# Data Science Tools and Ecosystem"
   ]
  },
  {
   "cell_type": "markdown",
   "id": "644fd464",
   "metadata": {},
   "source": [
    "In this notebook, Data Science Tools and Ecosystem are summarized."
   ]
  },
  {
   "cell_type": "markdown",
   "id": "21bde273",
   "metadata": {},
   "source": [
    "Some of the popular languages that Data Scientists use are:\n",
    "1. Python\n",
    "2. R\n",
    "3. SQL"
   ]
  },
  {
   "cell_type": "markdown",
   "id": "a17699f8",
   "metadata": {},
   "source": [
    "Some of the commonly used libraries used by Data Scientists include:\n",
    "1. Scikit-learn\n",
    "2. Pandas\n",
    "3. NumPy"
   ]
  },
  {
   "cell_type": "markdown",
   "id": "0134f132",
   "metadata": {},
   "source": [
    "\n",
    "| Data Science Tools |\n",
    "|----------|\n",
    "|   Apache Zeppelin  |\n",
    "|   RStudio  |\n",
    "|   Jupyter Notebook  |"
   ]
  },
  {
   "cell_type": "markdown",
   "id": "f023d07a",
   "metadata": {},
   "source": [
    "### Below are a few examples of evaluating arithmetic expressions in Python\n",
    "\n",
    "- 3+5+7\n",
    "- 3/2\n",
    "- 3+6"
   ]
  },
  {
   "cell_type": "code",
   "execution_count": 3,
   "id": "76076a5f",
   "metadata": {},
   "outputs": [
    {
     "data": {
      "text/plain": [
       "17"
      ]
     },
     "execution_count": 3,
     "metadata": {},
     "output_type": "execute_result"
    }
   ],
   "source": [
    "#This a simple arithmetic expression to mutiply then add integers\n",
    "(3*4)+5"
   ]
  },
  {
   "cell_type": "code",
   "execution_count": 4,
   "id": "25f3b317",
   "metadata": {},
   "outputs": [
    {
     "data": {
      "text/plain": [
       "3.3333333333333335"
      ]
     },
     "execution_count": 4,
     "metadata": {},
     "output_type": "execute_result"
    }
   ],
   "source": [
    "#This will convert 200 minutes to hours by diving by 60\n",
    "200/60"
   ]
  },
  {
   "cell_type": "markdown",
   "id": "12d22f37",
   "metadata": {},
   "source": [
    "<b>Objectives :</b>\n",
    "\n",
    "- Popular languages that Data Scientists use\n",
    "- Commonly used libraries used by Data Scientists\n",
    "- evaluating arithmetic expressions in Python\n",
    "- Conversion from mins to hours"
   ]
  },
  {
   "cell_type": "markdown",
   "id": "5e59241e",
   "metadata": {},
   "source": [
    "## Author\n",
    "    Muneeb Arif"
   ]
  },
  {
   "cell_type": "code",
   "execution_count": null,
   "id": "17f6d82f",
   "metadata": {},
   "outputs": [],
   "source": []
  }
 ],
 "metadata": {
  "kernelspec": {
   "display_name": "Python 3 (ipykernel)",
   "language": "python",
   "name": "python3"
  },
  "language_info": {
   "codemirror_mode": {
    "name": "ipython",
    "version": 3
   },
   "file_extension": ".py",
   "mimetype": "text/x-python",
   "name": "python",
   "nbconvert_exporter": "python",
   "pygments_lexer": "ipython3",
   "version": "3.11.3"
  }
 },
 "nbformat": 4,
 "nbformat_minor": 5
}
